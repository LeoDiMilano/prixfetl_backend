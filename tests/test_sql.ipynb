{
 "cells": [
  {
   "cell_type": "code",
   "execution_count": null,
   "metadata": {
    "vscode": {
     "languageId": "plaintext"
    }
   },
   "outputs": [],
   "source": [
    "# Importer les bibliothèques nécessaires\n",
    "import sqlite3\n",
    "import pandas as pd\n",
    "\n",
    "# Chemin vers la base de données SQLite\n",
    "db_path = \"../data/IAFetL.db\"  # Remplace par le chemin correct si besoin\n",
    "\n",
    "# Créer une fonction pour exécuter une requête SQL et afficher les résultats\n",
    "def execute_query(query):\n",
    "    \"\"\"\n",
    "    Exécute une requête SQL sur la base de données et retourne les résultats dans un DataFrame.\n",
    "\n",
    "    :param query: La requête SQL à exécuter\n",
    "    :return: Un DataFrame pandas contenant les résultats de la requête\n",
    "    \"\"\"\n",
    "    try:\n",
    "        # Connexion à la base de données\n",
    "        conn = sqlite3.connect(db_path)\n",
    "        # Exécution de la requête et chargement des résultats dans un DataFrame\n",
    "        df = pd.read_sql_query(query, conn)\n",
    "        return df\n",
    "    except sqlite3.Error as e:\n",
    "        print(f\"Erreur lors de l'exécution de la requête : {e}\")\n",
    "        return None\n",
    "    finally:\n",
    "        conn.close()\n",
    "\n",
    "# Exemple de requête SQL\n",
    "query = \"\"\"\n",
    "SELECT *\n",
    "FROM METEO_DETAIL\n",
    "LIMIT 10\n",
    "\"\"\"\n",
    "\n",
    "# Exécuter la requête et afficher les résultats\n",
    "results = execute_query(query)\n",
    "if results is not None:\n",
    "    display(results)  # Pour afficher les résultats directement dans le notebook\n"
   ]
  }
 ],
 "metadata": {
  "language_info": {
   "name": "python"
  }
 },
 "nbformat": 4,
 "nbformat_minor": 2
}
